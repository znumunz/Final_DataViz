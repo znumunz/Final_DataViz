{
  "nbformat": 4,
  "nbformat_minor": 0,
  "metadata": {
    "colab": {
      "private_outputs": true,
      "provenance": [],
      "authorship_tag": "ABX9TyMGynIu9EftRhtjCEmXrRXQ",
      "include_colab_link": true
    },
    "kernelspec": {
      "name": "python3",
      "display_name": "Python 3"
    },
    "language_info": {
      "name": "python"
    }
  },
  "cells": [
    {
      "cell_type": "markdown",
      "metadata": {
        "id": "view-in-github",
        "colab_type": "text"
      },
      "source": [
        "<a href=\"https://colab.research.google.com/github/znumunz/Final_DataViz/blob/main/Test_Final_DataViz.ipynb\" target=\"_parent\"><img src=\"https://colab.research.google.com/assets/colab-badge.svg\" alt=\"Open In Colab\"/></a>"
      ]
    },
    {
      "cell_type": "markdown",
      "source": [
        "# นำเข้าข้อมูล"
      ],
      "metadata": {
        "id": "VqIlkb-pIhiT"
      }
    },
    {
      "cell_type": "markdown",
      "source": [
        "ให้สร้างช่องทางลัดของไดร์ฟนี้ เข้าไปใน MyDrive ของตัวเอง ถึงจะสามารถ load ข้อมูลแบบไม่ต้องเปลี่ยน path ได้\n",
        "\n",
        "https://drive.google.com/drive/folders/1ZkTs3dlvqGnfMPss3mS5xoCnB1NXep-y?usp=sharing"
      ],
      "metadata": {
        "id": "Q2iTxcp6KwL3"
      }
    },
    {
      "cell_type": "code",
      "source": [
        "import os\n",
        "from google.colab import drive\n",
        "drive.mount('/content/drive')\n",
        "base_path = '/content/drive/MyDrive/Data_Final_DataViz'"
      ],
      "metadata": {
        "id": "4hXPQFUnIlB_"
      },
      "execution_count": null,
      "outputs": []
    },
    {
      "cell_type": "code",
      "source": [
        "import pandas as pd"
      ],
      "metadata": {
        "id": "1k3PNaLUJnXr"
      },
      "execution_count": null,
      "outputs": []
    },
    {
      "cell_type": "code",
      "source": [
        "# ทดสอบ\n",
        "data1 = \"stores (1)\"\n",
        "data2 =\n",
        "\n",
        "df1 = pd.read_csv(base_path +\"/\"+ data1+\".csv\")\n",
        "df2 =\n",
        "\n",
        "df1.head()"
      ],
      "metadata": {
        "id": "5Dp-11fQJIHZ"
      },
      "execution_count": null,
      "outputs": []
    },
    {
      "cell_type": "markdown",
      "source": [
        "# ส่งออก google sheets"
      ],
      "metadata": {
        "id": "ldeLtiGjILLj"
      }
    },
    {
      "cell_type": "code",
      "execution_count": null,
      "metadata": {
        "id": "Fek7UJhuDo8o"
      },
      "outputs": [],
      "source": [
        "# ============================================================\n",
        "# 🚀 Upload large DataFrames to separate Google Sheets (downsize + batch)\n",
        "# ============================================================\n",
        "\n",
        "!pip install gspread gspread_dataframe --quiet\n",
        "from google.colab import auth\n",
        "auth.authenticate_user()\n",
        "\n",
        "import gspread\n",
        "import pandas as pd\n",
        "from google.auth import default\n",
        "from gspread_dataframe import set_with_dataframe\n",
        "import math\n",
        "\n",
        "# ============================================================\n",
        "# ✅ เชื่อมต่อ Google Sheets\n",
        "creds, _ = default()\n",
        "gc = gspread.authorize(creds)"
      ]
    },
    {
      "cell_type": "code",
      "source": [
        "# ============================================================\n",
        "# ✅ กำหนดชื่อไฟล์และ DataFrame ที่จะอัปโหลด\n",
        "sheets_info = {\n",
        "    \"Fianl_DataViz_Data1\": Fianl_DataViz_Data,\n",
        "    \"Fianl_DataViz_Data3\": Fianl_DataViz_Data,\n",
        "    }\n",
        "\n",
        "# ============================================================\n",
        "# ✅ ตั้งค่า batch size (จำนวนแถวต่อครั้ง)\n",
        "BATCH_SIZE = 50000\n",
        "\n",
        "# ============================================================\n",
        "# ฟังก์ชันลดขนาด DataFrame\n",
        "def downsize_df(df):\n",
        "    # ลด int64 → int32\n",
        "    for col in df.select_dtypes(include=['int64']).columns:\n",
        "        df[col] = df[col].astype('int32')\n",
        "    # ลด float64 → float32\n",
        "    for col in df.select_dtypes(include=['float64']).columns:\n",
        "        df[col] = df[col].astype('float32')\n",
        "    # แปลง datetime → string\n",
        "    for col in df.select_dtypes(include=['datetime', 'datetimetz']).columns:\n",
        "        df[col] = df[col].astype(str)\n",
        "    return df\n",
        "\n",
        "# ============================================================\n",
        "# อัปโหลดทีละ DataFrame\n",
        "for sheet_title, df in sheets_info.items():\n",
        "    print(f\"\\n📤 กำลังอัปโหลด '{sheet_title}'...\")\n",
        "\n",
        "    df = downsize_df(df)  # ลดขนาดข้อมูล\n",
        "    total_rows = df.shape[0]\n",
        "    num_batches = math.ceil(total_rows / BATCH_SIZE)\n",
        "\n",
        "    # สร้าง Google Sheet ใหม่\n",
        "    sh = gc.create(sheet_title)\n",
        "    sh.share(None, perm_type='anyone', role='writer')  # ใครก็เข้าดูได้\n",
        "    ws = sh.sheet1\n",
        "\n",
        "    print(f\"ℹ️ Total rows: {total_rows}, will upload in {num_batches} batches of {BATCH_SIZE}\")\n",
        "\n",
        "    # อัปโหลด batch แรก พร้อม header\n",
        "    batch = df.iloc[0:min(BATCH_SIZE, total_rows)]\n",
        "    set_with_dataframe(ws, batch, include_index=False, include_column_header=True)\n",
        "\n",
        "    # อัปโหลด batch ถัดไป (ถ้ามี)\n",
        "    for i in range(1, num_batches):\n",
        "        start_row = i * BATCH_SIZE\n",
        "        end_row = min((i+1)*BATCH_SIZE, total_rows)\n",
        "        batch = df.iloc[start_row:end_row]\n",
        "        set_with_dataframe(ws, batch, include_index=False, include_column_header=False, row=start_row+1)\n",
        "        print(f\"⏳ Uploaded rows {start_row} to {end_row}\")\n",
        "\n",
        "    print(f\"✅ Upload finished: '{sheet_title}' ({df.shape[0]} rows, {df.shape[1]} cols)\")\n",
        "    print(f\"🔗 Google Sheets URL: https://docs.google.com/spreadsheets/d/{sh.id}\")\n",
        "\n",
        "print(\"\\n🎉 อัปโหลดครบทุกชุดข้อมูลเรียบร้อยแล้ว!\")\n"
      ],
      "metadata": {
        "id": "1L4PFH-zIOWO"
      },
      "execution_count": null,
      "outputs": []
    }
  ]
}